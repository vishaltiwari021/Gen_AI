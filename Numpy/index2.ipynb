{
 "cells": [
  {
   "cell_type": "markdown",
   "id": "3143c25d",
   "metadata": {},
   "source": [
    "## Numpy Array Operations"
   ]
  },
  {
   "cell_type": "code",
   "execution_count": 2,
   "id": "7566f6a8",
   "metadata": {},
   "outputs": [],
   "source": [
    "import numpy as np"
   ]
  },
  {
   "cell_type": "code",
   "execution_count": 4,
   "id": "1b0fa1fa",
   "metadata": {},
   "outputs": [
    {
     "name": "stdout",
     "output_type": "stream",
     "text": [
      "Basic slicing [2 3 4 5 6]\n",
      "with setp  slicing [1 3 5]\n",
      "Negative slicing 8\n"
     ]
    }
   ],
   "source": [
    "arr = np.arange(12)\n",
    "print(\"Basic slicing\",arr[2:7])\n",
    "print(\"with setp  slicing\",arr[1:7:2])\n",
    "print(\"Negative slicing\",arr[-4])\n"
   ]
  },
  {
   "cell_type": "code",
   "execution_count": 6,
   "id": "32dbe3de",
   "metadata": {},
   "outputs": [
    {
     "name": "stdout",
     "output_type": "stream",
     "text": [
      "arr_2d [[1 2 3]\n",
      " [4 5 6]\n",
      " [7 8 9]]\n",
      "Specific Element 9\n",
      "Entire row [1 2 3]\n",
      "Entire Col [1 4 7]\n"
     ]
    }
   ],
   "source": [
    "arr_2d = np.array([[1,2,3],[4,5,6],[7,8,9]])\n",
    "print(\"arr_2d\",arr_2d)\n",
    "print(\"Specific Element\",arr_2d[2,2])\n",
    "print(\"Entire row\",arr_2d[0])\n",
    "print(\"Entire Col\",arr_2d[:,0])"
   ]
  },
  {
   "cell_type": "markdown",
   "id": "e3594e10",
   "metadata": {},
   "source": [
    "## Sorting"
   ]
  },
  {
   "cell_type": "code",
   "execution_count": 10,
   "id": "5662fb7b",
   "metadata": {},
   "outputs": [
    {
     "name": "stdout",
     "output_type": "stream",
     "text": [
      "Sorted Array [ 1  1  2  3  3  5  5  6  7  7  8 62 94]\n",
      "Sorted 2D  Array by col [[2 1]\n",
      " [3 1]\n",
      " [3 2]]\n",
      "Sorted 2D  Array by row [[1 3]\n",
      " [2 3]\n",
      " [1 2]]\n"
     ]
    }
   ],
   "source": [
    "unsorted  =np.array([1,2,3,8,6,7,5,94,3,62,1,5,7])\n",
    "print(\"Sorted Array\",np.sort(unsorted))\n",
    "\n",
    "arr_2d_unsorted = np.array([[3,1],[3,2],[2,1]])\n",
    "print(\"Sorted 2D  Array by col\",np.sort(arr_2d_unsorted, axis=0))\n",
    "print(\"Sorted 2D  Array by row\",np.sort(arr_2d_unsorted, axis=1))"
   ]
  },
  {
   "cell_type": "markdown",
   "id": "c7451e6a",
   "metadata": {},
   "source": [
    "## Filtering"
   ]
  },
  {
   "cell_type": "code",
   "execution_count": 18,
   "id": "f6ae0e1c",
   "metadata": {},
   "outputs": [
    {
     "name": "stdout",
     "output_type": "stream",
     "text": [
      "number [ 1  2  3  4  5  6  7  8  9 10 11 12]\n",
      "even_number [ 2  4  6  8 10 12]\n"
     ]
    }
   ],
   "source": [
    "number  =np.array([1,2,3,4,5,6,7,8,9,10,11,12])\n",
    "print(\"number\",number)\n",
    "\n",
    "even_number = number[number%2==0]\n",
    "print(\"even_number\",even_number)"
   ]
  },
  {
   "cell_type": "markdown",
   "id": "61e12644",
   "metadata": {},
   "source": [
    "## Filter with mask"
   ]
  },
  {
   "cell_type": "code",
   "execution_count": 14,
   "id": "2529c807",
   "metadata": {},
   "outputs": [
    {
     "name": "stdout",
     "output_type": "stream",
     "text": [
      "number greater than  5 [0 3 6 9]\n"
     ]
    }
   ],
   "source": [
    "mask = number %3 == 0\n",
    "print(\"number greater than  5\",number[mask])"
   ]
  },
  {
   "cell_type": "markdown",
   "id": "f9e9c5a7",
   "metadata": {},
   "source": [
    "## Fancy indexing vs np.where()"
   ]
  },
  {
   "cell_type": "code",
   "execution_count": 21,
   "id": "79f971f7",
   "metadata": {},
   "outputs": [
    {
     "name": "stdout",
     "output_type": "stream",
     "text": [
      "[1 3 5]\n",
      "indexes of number (array([ 5,  6,  7,  8,  9, 10, 11]),)\n",
      "NP where [ 6  7  8  9 10 11 12]\n"
     ]
    }
   ],
   "source": [
    "indices = [0,2,4]\n",
    "print(number[indices])\n",
    "\n",
    "where_result = np.where(number>5)\n",
    "print(\"indexes of number\",where_result)\n",
    "print(\"NP where\", number[where_result])"
   ]
  },
  {
   "cell_type": "code",
   "execution_count": 27,
   "id": "75a3228b",
   "metadata": {},
   "outputs": [
    {
     "name": "stdout",
     "output_type": "stream",
     "text": [
      "[ 1  2  3  4  5  6  7  9 10 11 12 13]\n"
     ]
    }
   ],
   "source": [
    "condition_array =np.where(number>7,number+1,number)\n",
    "print(condition_array)"
   ]
  },
  {
   "cell_type": "markdown",
   "id": "b46fe766",
   "metadata": {},
   "source": [
    "## Adding and Removing Data"
   ]
  },
  {
   "cell_type": "code",
   "execution_count": 29,
   "id": "bda5d629",
   "metadata": {},
   "outputs": [
    {
     "name": "stdout",
     "output_type": "stream",
     "text": [
      "this is how the arrays are added [5 7 9]\n",
      " this is how combine the array [1 2 3 4 5 6]\n"
     ]
    }
   ],
   "source": [
    "arr1 = np.array([1,2,3])\n",
    "arr2 = np.array([4,5,6])\n",
    "\n",
    "combined = arr1+arr2\n",
    "print(\"this is how the arrays are added\",combined)\n",
    "\n",
    "combine  =np.concatenate((arr1, arr2))\n",
    "print(\" this is how combine the array\",combine)"
   ]
  },
  {
   "cell_type": "markdown",
   "id": "2a3f1b89",
   "metadata": {},
   "source": [
    "## Array Compatiblity"
   ]
  },
  {
   "cell_type": "code",
   "execution_count": 30,
   "id": "d3e1ff8a",
   "metadata": {},
   "outputs": [
    {
     "name": "stdout",
     "output_type": "stream",
     "text": [
      "compatiblity shapes True\n"
     ]
    }
   ],
   "source": [
    "a  = np.array([1,2,3])\n",
    "b  = np.array([4,5,6])\n",
    "c  = np.array([7,8,9])\n",
    "\n",
    "print(\"compatiblity shapes\",a.shape == b.shape == c.shape)"
   ]
  },
  {
   "cell_type": "code",
   "execution_count": 33,
   "id": "fc870388",
   "metadata": {},
   "outputs": [
    {
     "name": "stdout",
     "output_type": "stream",
     "text": [
      "[[1 2]\n",
      " [3 4]]\n",
      "[[1 2]\n",
      " [3 4]\n",
      " [5 6]]\n",
      "[[1 2 7]\n",
      " [3 4 8]]\n"
     ]
    }
   ],
   "source": [
    "old_Array = np.array([[1,2],[3,4]])\n",
    "new_row = np.array([[5,6]])\n",
    "\n",
    "with_new_row =np.vstack((old_Array,new_row))\n",
    "\n",
    "print(old_Array)\n",
    "print(with_new_row)\n",
    "\n",
    "new_col =np.array([[7],[8]])\n",
    "with_new_col =np.hstack((old_Array,new_col))\n",
    "print(with_new_col)\n"
   ]
  },
  {
   "cell_type": "markdown",
   "id": "9fa66bfa",
   "metadata": {},
   "source": [
    "# Delete array"
   ]
  },
  {
   "cell_type": "code",
   "execution_count": 34,
   "id": "fc1323ec",
   "metadata": {},
   "outputs": [
    {
     "name": "stdout",
     "output_type": "stream",
     "text": [
      "Array after deletion [ 1  2  3 45  7  8  9]\n"
     ]
    }
   ],
   "source": [
    "arr =np.array([1,2,3,45,6,7,8,9])\n",
    "deleted  =np.delete(arr,4)\n",
    "print(\"Array after deletion\",deleted)"
   ]
  },
  {
   "cell_type": "code",
   "execution_count": null,
   "id": "164d3bd3",
   "metadata": {},
   "outputs": [],
   "source": []
  }
 ],
 "metadata": {
  "kernelspec": {
   "display_name": ".venv",
   "language": "python",
   "name": "python3"
  },
  "language_info": {
   "codemirror_mode": {
    "name": "ipython",
    "version": 3
   },
   "file_extension": ".py",
   "mimetype": "text/x-python",
   "name": "python",
   "nbconvert_exporter": "python",
   "pygments_lexer": "ipython3",
   "version": "3.13.1"
  }
 },
 "nbformat": 4,
 "nbformat_minor": 5
}
