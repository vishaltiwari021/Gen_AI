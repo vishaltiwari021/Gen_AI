{
 "cells": [
  {
   "cell_type": "markdown",
   "id": "771d1bcd",
   "metadata": {},
   "source": [
    "# NUmpy Array and Basics"
   ]
  },
  {
   "cell_type": "code",
   "execution_count": 2,
   "id": "3fc4fffc",
   "metadata": {},
   "outputs": [],
   "source": [
    "import numpy as np"
   ]
  },
  {
   "cell_type": "code",
   "execution_count": 3,
   "id": "797eafe6",
   "metadata": {},
   "outputs": [
    {
     "name": "stdout",
     "output_type": "stream",
     "text": [
      "1D Array: [1 2 3 4 5]\n",
      "2D Array:\n",
      " [[1 2 3]\n",
      " [4 5 6]\n",
      " [7 8 9]]\n"
     ]
    }
   ],
   "source": [
    "arr_1d = np.array([1, 2, 3, 4, 5])\n",
    "print(\"1D Array:\", arr_1d)\n",
    "arr_2d = np.array([[1, 2, 3], [4, 5, 6], [7, 8, 9]])\n",
    "print(\"2D Array:\\n\", arr_2d)\n"
   ]
  },
  {
   "cell_type": "markdown",
   "id": "9395d155",
   "metadata": {},
   "source": [
    "## List vs Numpy  array"
   ]
  },
  {
   "cell_type": "code",
   "execution_count": null,
   "id": "ac69f317",
   "metadata": {},
   "outputs": [
    {
     "name": "stdout",
     "output_type": "stream",
     "text": [
      "Python List multiplication: [1, 2, 3, 4, 5, 1, 2, 3, 4, 5]\n",
      "Python List multiplication: [ 2  4  6  8 10]\n"
     ]
    }
   ],
   "source": [
    "py_list = [1, 2, 3, 4, 5]\n",
    "print(\"Python List multiplication:\", py_list*2)\n",
    "\n",
    "np_array = np.array([1, 2, 3, 4, 5])\n",
    "print(\"Python List multiplication:\", np_array*2)\n",
    "\n",
    "print(\"Numpy arrays are faster than Python lists for large data sets.\")"
   ]
  },
  {
   "cell_type": "markdown",
   "id": "26bc3f6c",
   "metadata": {},
   "source": [
    "## Creating Array From Scratch"
   ]
  },
  {
   "cell_type": "code",
   "execution_count": 6,
   "id": "a8e21883",
   "metadata": {},
   "outputs": [
    {
     "name": "stdout",
     "output_type": "stream",
     "text": [
      "Zeros Array:\n",
      " [[0. 0. 0. 0.]\n",
      " [0. 0. 0. 0.]\n",
      " [0. 0. 0. 0.]]\n",
      "Ones Array:\n",
      " [[1. 1. 1.]\n",
      " [1. 1. 1.]]\n",
      "Full Array:\n",
      " [[7 7 7]\n",
      " [7 7 7]]\n",
      "Random Array:\n",
      " [[0.39272979 0.89816818 0.84878642]\n",
      " [0.42828738 0.23506734 0.57105605]]\n",
      "Sequence Array: [0 2 4 6 8]\n"
     ]
    }
   ],
   "source": [
    "zeros = np.zeros((3, 4))\n",
    "print(\"Zeros Array:\\n\", zeros)\n",
    "\n",
    "one = np.ones((2, 3))\n",
    "print(\"Ones Array:\\n\", one)\n",
    "\n",
    "full = np.full((2, 3), 7)\n",
    "print(\"Full Array:\\n\", full)\n",
    "\n",
    "random  = np.random.random((2, 3))\n",
    "print(\"Random Array:\\n\", random)\n",
    "\n",
    "sequence = np.arange(0, 10, 2)\n",
    "print(\"Sequence Array:\", sequence)"
   ]
  },
  {
   "cell_type": "markdown",
   "id": "8ba772c9",
   "metadata": {},
   "source": [
    "## Vector,Matrix,Tensor"
   ]
  },
  {
   "cell_type": "code",
   "execution_count": 9,
   "id": "7400e68d",
   "metadata": {},
   "outputs": [
    {
     "name": "stdout",
     "output_type": "stream",
     "text": [
      "Vector Array: [1 2 3 4 5]\n",
      "Matrix Array:\n",
      " [[1 2 3]\n",
      " [4 5 6]]\n",
      "Tensor Array:\n",
      " [[[1 2]\n",
      "  [3 4]]\n",
      "\n",
      " [[5 6]\n",
      "  [7 8]]]\n"
     ]
    }
   ],
   "source": [
    "vector = np.array([1,2,3,4,5])\n",
    "print(\"Vector Array:\", vector)\n",
    "\n",
    "matrix = np.array([[1, 2, 3], [4, 5, 6]])\n",
    "print(\"Matrix Array:\\n\", matrix)\n",
    "\n",
    "tensor =np.array([[[1, 2], [3, 4]], [[5, 6], [7, 8]]])\n",
    "print(\"Tensor Array:\\n\", tensor)\n",
    "\n"
   ]
  },
  {
   "cell_type": "markdown",
   "id": "bc88593a",
   "metadata": {},
   "source": [
    "### Arrays properties"
   ]
  },
  {
   "cell_type": "code",
   "execution_count": 10,
   "id": "e6a00fa4",
   "metadata": {},
   "outputs": [
    {
     "name": "stdout",
     "output_type": "stream",
     "text": [
      "Array Shape: (2, 3)\n",
      "Array Dimension: 2\n",
      "Array Size: 6\n",
      "Array Data Type: int64\n"
     ]
    }
   ],
   "source": [
    "arr =np.array([[1, 2, 3], [4, 5, 6]])\n",
    "print( \"Array Shape:\", arr.shape)\n",
    "print(\"Array Dimension:\", arr.ndim)\n",
    "print(\"Array Size:\", arr.size)\n",
    "print(\"Array Data Type:\", arr.dtype)"
   ]
  },
  {
   "cell_type": "markdown",
   "id": "ce7a81f6",
   "metadata": {},
   "source": [
    "## Array Reshaping"
   ]
  },
  {
   "cell_type": "code",
   "execution_count": 16,
   "id": "d634a3ce",
   "metadata": {},
   "outputs": [
    {
     "name": "stdout",
     "output_type": "stream",
     "text": [
      "Original Array:\n",
      " [ 0  1  2  3  4  5  6  7  8  9 10 11]\n",
      "Reshaped Array:\n",
      " [[ 0  1  2  3]\n",
      " [ 4  5  6  7]\n",
      " [ 8  9 10 11]]\n",
      "Flattened Array:\n",
      " [ 0  1  2  3  4  5  6  7  8  9 10 11]\n",
      "Raveled Array:\n",
      " [ 0  1  2  3  4  5  6  7  8  9 10 11]\n",
      "Transposed Array:\n",
      " [[ 0  4  8]\n",
      " [ 1  5  9]\n",
      " [ 2  6 10]\n",
      " [ 3  7 11]]\n"
     ]
    }
   ],
   "source": [
    "arr =np.arange(12)\n",
    "print(\"Original Array:\\n\", arr)\n",
    "\n",
    "reshape = arr.reshape(3,4)\n",
    "print(\"Reshaped Array:\\n\", reshape)\n",
    "\n",
    "flattened = reshape.flatten()\n",
    "print(\"Flattened Array:\\n\", flattened)\n",
    "\n",
    "# ravel (returns view , not copy)\n",
    "ravled = reshape.ravel()\n",
    "print(\"Raveled Array:\\n\", ravled)\n",
    "\n",
    "#Transpose\n",
    "transposed = reshape.T \n",
    "print(\"Transposed Array:\\n\", transposed)"
   ]
  },
  {
   "cell_type": "code",
   "execution_count": null,
   "id": "5e81691a",
   "metadata": {},
   "outputs": [],
   "source": []
  }
 ],
 "metadata": {
  "kernelspec": {
   "display_name": ".venv",
   "language": "python",
   "name": "python3"
  },
  "language_info": {
   "codemirror_mode": {
    "name": "ipython",
    "version": 3
   },
   "file_extension": ".py",
   "mimetype": "text/x-python",
   "name": "python",
   "nbconvert_exporter": "python",
   "pygments_lexer": "ipython3",
   "version": "3.13.1"
  }
 },
 "nbformat": 4,
 "nbformat_minor": 5
}
