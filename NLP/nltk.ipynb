{
 "cells": [
  {
   "cell_type": "markdown",
   "id": "4c007c3c",
   "metadata": {},
   "source": [
    "## IN NLP using nltk"
   ]
  },
  {
   "cell_type": "code",
   "execution_count": 61,
   "id": "65acb595",
   "metadata": {},
   "outputs": [],
   "source": [
    "import nltk\n",
    "import pandas as pd"
   ]
  },
  {
   "cell_type": "code",
   "execution_count": 3,
   "id": "ee534439",
   "metadata": {},
   "outputs": [],
   "source": [
    "document = \"\"\"It was a very pleasant day. The weather was cool and were light showers.\n",
    "I went to the market to buy some fruites\"\"\"\n",
    "\n",
    "sentence = \"Send all the 50 document related to chapter1,2,3, at vishal@.com\""
   ]
  },
  {
   "cell_type": "code",
   "execution_count": 32,
   "id": "5f3c8154",
   "metadata": {},
   "outputs": [],
   "source": [
    "from nltk.tokenize import sent_tokenize,word_tokenize"
   ]
  },
  {
   "cell_type": "code",
   "execution_count": 14,
   "id": "03c983c6",
   "metadata": {},
   "outputs": [
    {
     "name": "stdout",
     "output_type": "stream",
     "text": [
      "['It was a very pleasant day.', 'The weather was cool and were light showers.', 'I went to the market to buy some fruites']\n"
     ]
    }
   ],
   "source": [
    "nltk.download('punkt_tab', quiet=True)\n",
    "sents = sent_tokenize(document)\n",
    "print(sents)"
   ]
  },
  {
   "cell_type": "code",
   "execution_count": 15,
   "id": "b8aee57a",
   "metadata": {},
   "outputs": [
    {
     "name": "stdout",
     "output_type": "stream",
     "text": [
      "['Send', 'all', 'the', '50', 'document', 'related', 'to', 'chapter1,2,3', ',', 'at', 'vishal', '@', '.com']\n"
     ]
    }
   ],
   "source": [
    "word = word_tokenize(sentence)\n",
    "print(word)"
   ]
  },
  {
   "cell_type": "code",
   "execution_count": 36,
   "id": "655b4ec3",
   "metadata": {},
   "outputs": [],
   "source": [
    "import re"
   ]
  },
  {
   "cell_type": "code",
   "execution_count": 4,
   "id": "963ca351",
   "metadata": {},
   "outputs": [
    {
     "data": {
      "text/plain": [
       "['Send',\n",
       " 'all',\n",
       " 'the',\n",
       " '50',\n",
       " 'document',\n",
       " 'related',\n",
       " 'to',\n",
       " 'chapter1',\n",
       " '2',\n",
       " '3',\n",
       " 'at',\n",
       " 'vishal',\n",
       " 'com']"
      ]
     },
     "execution_count": 4,
     "metadata": {},
     "output_type": "execute_result"
    }
   ],
   "source": [
    "re.split(r'\\W+', sentence)"
   ]
  },
  {
   "cell_type": "code",
   "execution_count": 8,
   "id": "9a823a2a",
   "metadata": {},
   "outputs": [
    {
     "data": {
      "text/plain": [
       "['Send',\n",
       " 'all',\n",
       " 'the',\n",
       " 'document',\n",
       " 'related',\n",
       " 'to',\n",
       " 'chapter',\n",
       " 'at',\n",
       " 'vishal',\n",
       " 'com']"
      ]
     },
     "execution_count": 8,
     "metadata": {},
     "output_type": "execute_result"
    }
   ],
   "source": [
    "re.split(r'[^A-Za-z]+', sentence)"
   ]
  },
  {
   "cell_type": "code",
   "execution_count": 10,
   "id": "1184e9d7",
   "metadata": {},
   "outputs": [
    {
     "data": {
      "text/plain": [
       "'Send all the document related to chapter at vishal com'"
      ]
     },
     "execution_count": 10,
     "metadata": {},
     "output_type": "execute_result"
    }
   ],
   "source": [
    "re.sub(r'[^A-Za-z]+',' ', sentence)"
   ]
  },
  {
   "cell_type": "code",
   "execution_count": null,
   "id": "228054e5",
   "metadata": {},
   "outputs": [
    {
     "name": "stdout",
     "output_type": "stream",
     "text": [
      "{'if', 'in', 'whom', 's', \"we're\", 'isn', 't', 'what', 'they', 'don', 'we', \"mightn't\", 'some', 'of', 'couldn', 'itself', \"that'll\", 'haven', 'about', 'ours', 'her', \"we'll\", 'after', 'against', 'own', 'been', 'the', 'at', 'herself', 'down', \"i'm\", 'how', 'all', 'mightn', 'o', \"you'd\", 'my', 'through', \"she's\", 'same', 'off', 'up', 'has', \"he'd\", \"isn't\", 'wouldn', 'hadn', 'ourselves', 'shan', \"you'll\", \"you've\", \"won't\", \"you're\", 'few', 'this', 'weren', \"shan't\", \"it'll\", 'mustn', 'to', 'for', 'ma', \"it'd\", 'once', 'there', \"they'd\", 'who', 'have', 'having', 'will', 're', 'aren', 'when', 'had', 'its', 'but', 'out', 'more', 'do', \"he's\", \"hasn't\", 'both', 'll', \"they've\", 'me', 'shouldn', \"she'd\", 'y', 'why', \"don't\", \"i've\", \"aren't\", \"i'll\", \"shouldn't\", 'nor', 'was', 'i', 'not', \"couldn't\", 'can', 'a', 'now', 'such', 'which', 'it', 'does', 'him', \"didn't\", 'below', 'their', 'until', 'themselves', 'then', 'on', \"she'll\", \"they're\", 'that', 'or', 'with', 'them', 'yours', 'ain', 'be', 'm', \"should've\", \"doesn't\", \"mustn't\", 'hasn', \"wasn't\", 'above', 'am', 've', 'should', 'these', 'very', 'yourself', 'during', 'only', 'those', 'an', 'into', \"he'll\", \"it's\", \"needn't\", 'by', 'needn', 'wasn', 'hers', 'again', 'under', 'between', 'other', 'while', \"we've\", 'further', 'most', 'than', 'himself', 'did', 'she', 'doesn', 'any', 'over', 'myself', \"wouldn't\", 'where', 'too', 'so', \"haven't\", 'before', 'his', \"they'll\", 'from', 'here', \"weren't\", 'each', 'were', 'won', \"hadn't\", 'yourselves', 'just', \"i'd\", 'your', 'doing', 'and', 'being', \"we'd\", 'our', 'you', 'he', 'didn', 'as', 'theirs', 'no', 'because', 'is', 'd', 'are'}\n"
     ]
    }
   ],
   "source": [
    "from nltk.corpus import stopwords\n",
    "nltk.download('stopwords', quiet=True)\n",
    "sw = set(stopwords.words('eglish'))\n",
    "print(sw)"
   ]
  },
  {
   "cell_type": "code",
   "execution_count": 18,
   "id": "b9c758a4",
   "metadata": {},
   "outputs": [],
   "source": [
    "sentence = re.sub(r'[^A-Za-z]+', ' ', sentence)\n",
    "tokens = re.split(r'[,\\s]+', sentence)\n",
    "tokens = [w for w in tokens if w and w not in sw]"
   ]
  },
  {
   "cell_type": "code",
   "execution_count": 19,
   "id": "d85f1e57",
   "metadata": {},
   "outputs": [
    {
     "data": {
      "text/plain": [
       "['Send', 'document', 'related', 'chapter', 'vishal', 'com']"
      ]
     },
     "execution_count": 19,
     "metadata": {},
     "output_type": "execute_result"
    }
   ],
   "source": [
    "tokens"
   ]
  },
  {
   "cell_type": "code",
   "execution_count": 28,
   "id": "e4f49386",
   "metadata": {},
   "outputs": [],
   "source": [
    "from nltk.stem.snowball import SnowballStemmer, PorterStemmer\n",
    "nltk.download('snowball_data', quiet=True)\n",
    "stemmer = SnowballStemmer('english')"
   ]
  },
  {
   "cell_type": "code",
   "execution_count": 25,
   "id": "2cafb092",
   "metadata": {},
   "outputs": [
    {
     "data": {
      "text/plain": [
       "'run'"
      ]
     },
     "execution_count": 25,
     "metadata": {},
     "output_type": "execute_result"
    }
   ],
   "source": [
    "stemmer.stem('running')"
   ]
  },
  {
   "cell_type": "code",
   "execution_count": 26,
   "id": "8654bb71",
   "metadata": {},
   "outputs": [
    {
     "data": {
      "text/plain": [
       "'curl'"
      ]
     },
     "execution_count": 26,
     "metadata": {},
     "output_type": "execute_result"
    }
   ],
   "source": [
    "stemmer.stem('curled')"
   ]
  },
  {
   "cell_type": "code",
   "execution_count": 29,
   "id": "5723c447",
   "metadata": {},
   "outputs": [
    {
     "data": {
      "text/plain": [
       "'run'"
      ]
     },
     "execution_count": 29,
     "metadata": {},
     "output_type": "execute_result"
    }
   ],
   "source": [
    "ps = PorterStemmer()\n",
    "ps.stem('running')"
   ]
  },
  {
   "cell_type": "markdown",
   "id": "34f5be00",
   "metadata": {},
   "source": [
    "exercises\n"
   ]
  },
  {
   "cell_type": "code",
   "execution_count": 53,
   "id": "fa730554",
   "metadata": {},
   "outputs": [],
   "source": [
    "l1 = \"\"\"I like to eat Pizza\n",
    "I donot like to eat Bread\n",
    " I like to watch movies\"\"\""
   ]
  },
  {
   "cell_type": "code",
   "execution_count": 40,
   "id": "d7a0ce79",
   "metadata": {},
   "outputs": [
    {
     "name": "stdout",
     "output_type": "stream",
     "text": [
      "['I', 'like', 'to', 'eat', 'Pizza', 'I', 'do', 'not', 'k=like', 'to', 'eat', 'Bread', 'I', 'like', 'to', 'watch', 'movies']\n"
     ]
    }
   ],
   "source": [
    "word = word_tokenize(l1)\n",
    "print(word)"
   ]
  },
  {
   "cell_type": "code",
   "execution_count": 54,
   "id": "161e719f",
   "metadata": {},
   "outputs": [],
   "source": [
    "sentence = re.sub(r'[^A-Za-z]+', ' ', sentence)\n",
    "tokens = re.split(r'[,\\s]+', sentence)\n",
    "tokens = [w for w in tokens if w and w not in sw]"
   ]
  },
  {
   "cell_type": "code",
   "execution_count": 55,
   "id": "234a862c",
   "metadata": {},
   "outputs": [
    {
     "data": {
      "text/plain": [
       "['Send', 'document', 'related', 'chapter', 'vishal', 'com']"
      ]
     },
     "execution_count": 55,
     "metadata": {},
     "output_type": "execute_result"
    }
   ],
   "source": [
    "tokens"
   ]
  },
  {
   "cell_type": "code",
   "execution_count": 60,
   "id": "f1be2cd4",
   "metadata": {},
   "outputs": [
    {
     "name": "stdout",
     "output_type": "stream",
     "text": [
      "{'if', 'in', 'whom', 's', \"we're\", 'isn', 't', 'what', 'they', 'don', 'we', \"mightn't\", 'some', 'of', 'couldn', 'itself', \"that'll\", 'haven', 'about', 'ours', 'her', \"we'll\", 'after', 'against', 'own', 'been', 'the', 'at', 'herself', 'down', \"i'm\", 'how', 'all', 'mightn', 'o', \"you'd\", 'my', 'through', \"she's\", 'same', 'off', 'up', 'has', \"he'd\", \"isn't\", 'wouldn', 'hadn', 'ourselves', 'shan', \"you'll\", \"you've\", \"won't\", \"you're\", 'few', 'this', 'weren', \"shan't\", \"it'll\", 'mustn', 'to', 'for', 'ma', \"it'd\", 'once', 'there', \"they'd\", 'who', 'have', 'having', 'will', 're', 'aren', 'when', 'had', 'its', 'but', 'out', 'more', 'do', \"he's\", \"hasn't\", 'both', 'll', \"they've\", 'me', 'shouldn', \"she'd\", 'y', 'why', \"don't\", \"i've\", \"aren't\", \"i'll\", \"shouldn't\", 'nor', 'was', 'i', 'not', \"couldn't\", 'can', 'a', 'now', 'such', 'which', 'it', 'does', 'him', \"didn't\", 'below', 'their', 'until', 'themselves', 'then', 'on', \"she'll\", \"they're\", 'that', 'or', 'with', 'them', 'yours', 'ain', 'be', 'm', \"should've\", \"doesn't\", \"mustn't\", 'hasn', \"wasn't\", 'above', 'am', 've', 'should', 'these', 'very', 'yourself', 'during', 'only', 'those', 'an', 'into', \"he'll\", \"it's\", \"needn't\", 'by', 'needn', 'wasn', 'hers', 'again', 'under', 'between', 'other', 'while', \"we've\", 'further', 'most', 'than', 'himself', 'did', 'she', 'doesn', 'any', 'over', 'myself', \"wouldn't\", 'where', 'too', 'so', \"haven't\", 'before', 'his', \"they'll\", 'from', 'here', \"weren't\", 'each', 'were', 'won', \"hadn't\", 'yourselves', 'just', \"i'd\", 'your', 'doing', 'and', 'being', \"we'd\", 'our', 'you', 'he', 'didn', 'as', 'theirs', 'no', 'because', 'is', 'd', 'are'}\n",
      "{'I', 'Bread', 'Pizza', 'like', 'watch', 'to', 'movies', 'donot', 'eat'}\n"
     ]
    }
   ],
   "source": [
    "# Tokenize l1 and get unique words (vocabulary)\n",
    "from nltk.tokenize import word_tokenize\n",
    "print(sw)\n",
    "vocab = set(word_tokenize(l1))\n",
    "print(vocab)"
   ]
  },
  {
   "cell_type": "code",
   "execution_count": 67,
   "id": "ff1bd5ac",
   "metadata": {},
   "outputs": [
    {
     "data": {
      "text/html": [
       "<div>\n",
       "<style scoped>\n",
       "    .dataframe tbody tr th:only-of-type {\n",
       "        vertical-align: middle;\n",
       "    }\n",
       "\n",
       "    .dataframe tbody tr th {\n",
       "        vertical-align: top;\n",
       "    }\n",
       "\n",
       "    .dataframe thead th {\n",
       "        text-align: right;\n",
       "    }\n",
       "</style>\n",
       "<table border=\"1\" class=\"dataframe\">\n",
       "  <thead>\n",
       "    <tr style=\"text-align: right;\">\n",
       "      <th></th>\n",
       "      <th>v1</th>\n",
       "      <th>v2</th>\n",
       "      <th>Unnamed: 2</th>\n",
       "      <th>Unnamed: 3</th>\n",
       "      <th>Unnamed: 4</th>\n",
       "    </tr>\n",
       "  </thead>\n",
       "  <tbody>\n",
       "    <tr>\n",
       "      <th>0</th>\n",
       "      <td>ham</td>\n",
       "      <td>Go until jurong point, crazy.. Available only ...</td>\n",
       "      <td>NaN</td>\n",
       "      <td>NaN</td>\n",
       "      <td>NaN</td>\n",
       "    </tr>\n",
       "    <tr>\n",
       "      <th>1</th>\n",
       "      <td>ham</td>\n",
       "      <td>Ok lar... Joking wif u oni...</td>\n",
       "      <td>NaN</td>\n",
       "      <td>NaN</td>\n",
       "      <td>NaN</td>\n",
       "    </tr>\n",
       "    <tr>\n",
       "      <th>2</th>\n",
       "      <td>spam</td>\n",
       "      <td>Free entry in 2 a wkly comp to win FA Cup fina...</td>\n",
       "      <td>NaN</td>\n",
       "      <td>NaN</td>\n",
       "      <td>NaN</td>\n",
       "    </tr>\n",
       "    <tr>\n",
       "      <th>3</th>\n",
       "      <td>ham</td>\n",
       "      <td>U dun say so early hor... U c already then say...</td>\n",
       "      <td>NaN</td>\n",
       "      <td>NaN</td>\n",
       "      <td>NaN</td>\n",
       "    </tr>\n",
       "    <tr>\n",
       "      <th>4</th>\n",
       "      <td>ham</td>\n",
       "      <td>Nah I don't think he goes to usf, he lives aro...</td>\n",
       "      <td>NaN</td>\n",
       "      <td>NaN</td>\n",
       "      <td>NaN</td>\n",
       "    </tr>\n",
       "  </tbody>\n",
       "</table>\n",
       "</div>"
      ],
      "text/plain": [
       "     v1  ... Unnamed: 4\n",
       "0   ham  ...        NaN\n",
       "1   ham  ...        NaN\n",
       "2  spam  ...        NaN\n",
       "3   ham  ...        NaN\n",
       "4   ham  ...        NaN\n",
       "\n",
       "[5 rows x 5 columns]"
      ]
     },
     "execution_count": 67,
     "metadata": {},
     "output_type": "execute_result"
    }
   ],
   "source": [
    "df = pd.read_csv('spam.csv', encoding='latin1')\n",
    "df.head()"
   ]
  },
  {
   "cell_type": "code",
   "execution_count": null,
   "id": "ce9bfe09",
   "metadata": {},
   "outputs": [],
   "source": []
  }
 ],
 "metadata": {
  "kernelspec": {
   "display_name": "Python 3 (ipykernel)",
   "language": "python",
   "name": "python3"
  },
  "language_info": {
   "codemirror_mode": {
    "name": "ipython",
    "version": 3
   },
   "file_extension": ".py",
   "mimetype": "text/x-python",
   "name": "python",
   "nbconvert_exporter": "python",
   "pygments_lexer": "ipython3",
   "version": "3.11.9"
  }
 },
 "nbformat": 4,
 "nbformat_minor": 5
}
